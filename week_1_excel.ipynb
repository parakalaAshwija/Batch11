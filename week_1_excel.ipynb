{
  "nbformat": 4,
  "nbformat_minor": 0,
  "metadata": {
    "colab": {
      "provenance": [],
      "authorship_tag": "ABX9TyPP5KbYSw4TcnB4InCS3TXX",
      "include_colab_link": true
    },
    "kernelspec": {
      "name": "python3",
      "display_name": "Python 3"
    },
    "language_info": {
      "name": "python"
    }
  },
  "cells": [
    {
      "cell_type": "markdown",
      "metadata": {
        "id": "view-in-github",
        "colab_type": "text"
      },
      "source": [
        "<a href=\"https://colab.research.google.com/github/parakalaAshwija/Batch11/blob/main/week_1_excel.ipynb\" target=\"_parent\"><img src=\"https://colab.research.google.com/assets/colab-badge.svg\" alt=\"Open In Colab\"/></a>"
      ]
    },
    {
      "cell_type": "code",
      "execution_count": 1,
      "metadata": {
        "colab": {
          "base_uri": "https://localhost:8080/"
        },
        "id": "0rpxqEZjjqFs",
        "outputId": "e6ab5a93-4e42-4345-8a23-2c5696ea0269"
      },
      "outputs": [
        {
          "output_type": "stream",
          "name": "stdout",
          "text": [
            "Sample Excel file 'student_marks.xlsx' created.\n",
            "\n",
            "Original Data:\n",
            "   Roll_No   Name  Math  Science  English\n",
            "0    101.0   Asha  88.0     76.0     90.0\n",
            "1    102.0  Rahul  92.0      NaN     85.0\n",
            "2    103.0  Priya   NaN     67.0     78.0\n",
            "3    104.0  Kiran  45.0     55.0      NaN\n",
            "4    105.0  Sneha  33.0     30.0     35.0\n",
            "5      NaN   Ravi  70.0     82.0     75.0\n",
            "6    107.0    NaN  60.0     59.0     66.0\n",
            "\n",
            "\n",
            "Cleaned and Transformed Data:\n",
            "   Roll_No   Name  Math  Science  English  Total_Marks  Average_Marks\n",
            "0    101.0   Asha  88.0     76.0     90.0        254.0      84.666667\n",
            "1    102.0  Rahul  92.0     57.0     85.0        234.0      78.000000\n",
            "2    103.0  Priya  64.5     67.0     78.0        209.5      69.833333\n",
            "3    104.0  Kiran  45.0     55.0     72.0        172.0      57.333333\n",
            "4    105.0  Sneha  33.0     30.0     35.0         98.0      32.666667\n",
            "\n",
            "\n",
            "Cleaned data saved successfully as 'cleaned_student_marks.xlsx'.\n",
            "Highlighted version saved as 'highlighted_student_marks.xlsx'.\n"
          ]
        },
        {
          "output_type": "stream",
          "name": "stderr",
          "text": [
            "/tmp/ipython-input-1519387320.py:49: FutureWarning: Styler.applymap has been deprecated. Use Styler.map instead.\n",
            "  styled = df.style.applymap(highlight_low, subset=subject_cols)\n"
          ]
        }
      ],
      "source": [
        "import pandas as pd\n",
        "import numpy as np\n",
        "\n",
        "# Step 1: (Optional) Create a sample Excel file for demo\n",
        "data = {\n",
        "    'Roll_No': [101, 102, 103, 104, 105, np.nan, 107],\n",
        "    'Name': ['Asha', 'Rahul', 'Priya', 'Kiran', 'Sneha', 'Ravi', None],\n",
        "    'Math': [88, 92, np.nan, 45, 33, 70, 60],\n",
        "    'Science': [76, np.nan, 67, 55, 30, 82, 59],\n",
        "    'English': [90, 85, 78, np.nan, 35, 75, 66]\n",
        "}\n",
        "\n",
        "df = pd.DataFrame(data)\n",
        "df.to_excel(\"student_marks.xlsx\", index=False)\n",
        "print(\"Sample Excel file 'student_marks.xlsx' created.\\n\")\n",
        "\n",
        "# Step 2: Load the Excel file\n",
        "df = pd.read_excel(\"student_marks.xlsx\")\n",
        "\n",
        "print(\"Original Data:\")\n",
        "print(df)\n",
        "print(\"\\n\")\n",
        "\n",
        "# Step 3: Remove students with missing Roll_No or Name\n",
        "df = df.dropna(subset=['Roll_No', 'Name'])\n",
        "\n",
        "# Step 4: Fill missing marks with subject-wise mean\n",
        "subject_cols = ['Math', 'Science', 'English']\n",
        "df[subject_cols] = df[subject_cols].apply(lambda x: x.fillna(x.mean()))\n",
        "\n",
        "# Step 5: Calculate total and average marks\n",
        "df['Total_Marks'] = df[subject_cols].sum(axis=1)\n",
        "df['Average_Marks'] = df[subject_cols].mean(axis=1)\n",
        "\n",
        "# Step 6: Display cleaned and transformed data\n",
        "print(\"Cleaned and Transformed Data:\")\n",
        "print(df)\n",
        "print(\"\\n\")\n",
        "\n",
        "# Step 7: Save cleaned data to new Excel file\n",
        "df.to_excel(\"cleaned_student_marks.xlsx\", index=False)\n",
        "print(\"Cleaned data saved successfully as 'cleaned_student_marks.xlsx'.\")\n",
        "\n",
        "# Step 8: Optional — Highlight low marks (<35) when saving to Excel\n",
        "def highlight_low(val):\n",
        "    color = 'background-color: lightcoral' if val < 35 else ''\n",
        "    return color\n",
        "\n",
        "styled = df.style.applymap(highlight_low, subset=subject_cols)\n",
        "styled.to_excel(\"highlighted_student_marks.xlsx\", index=False)\n",
        "print(\"Highlighted version saved as 'highlighted_student_marks.xlsx'.\")"
      ]
    }
  ]
}